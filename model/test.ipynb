{
 "cells": [
  {
   "cell_type": "code",
   "execution_count": 16,
   "metadata": {},
   "outputs": [],
   "source": [
    "from __future__ import absolute_import, division, print_function, unicode_literals\n",
    "import tensorflow as tf\n",
    "\n",
    "import matplotlib as mpl\n",
    "import matplotlib.pyplot as plt\n",
    "import numpy as np\n",
    "import os\n",
    "import pandas as pd\n",
    "\n",
    "mpl.rcParams['figure.figsize'] = (8, 6)\n",
    "mpl.rcParams['axes.grid'] = False\n",
    "\n",
    "TRAIN_SPLIT = 11000\n",
    "BATCH_SIZE = 256\n",
    "BUFFER_SIZE = 10000\n",
    "EVALUATION_INTERVAL = 200\n",
    "EPOCHS = 50"
   ]
  },
  {
   "cell_type": "code",
   "execution_count": 2,
   "metadata": {},
   "outputs": [
    {
     "data": {
      "text/html": [
       "<div>\n",
       "<style scoped>\n",
       "    .dataframe tbody tr th:only-of-type {\n",
       "        vertical-align: middle;\n",
       "    }\n",
       "\n",
       "    .dataframe tbody tr th {\n",
       "        vertical-align: top;\n",
       "    }\n",
       "\n",
       "    .dataframe thead th {\n",
       "        text-align: right;\n",
       "    }\n",
       "</style>\n",
       "<table border=\"1\" class=\"dataframe\">\n",
       "  <thead>\n",
       "    <tr style=\"text-align: right;\">\n",
       "      <th></th>\n",
       "      <th>date</th>\n",
       "      <th>high</th>\n",
       "      <th>low</th>\n",
       "      <th>open</th>\n",
       "      <th>close</th>\n",
       "    </tr>\n",
       "  </thead>\n",
       "  <tbody>\n",
       "    <tr>\n",
       "      <th>0</th>\n",
       "      <td>04/01/1971</td>\n",
       "      <td>2.3938</td>\n",
       "      <td>2.3938</td>\n",
       "      <td>2.3938</td>\n",
       "      <td>2.3938</td>\n",
       "    </tr>\n",
       "    <tr>\n",
       "      <th>1</th>\n",
       "      <td>05/01/1971</td>\n",
       "      <td>2.3949</td>\n",
       "      <td>2.3949</td>\n",
       "      <td>2.3949</td>\n",
       "      <td>2.3949</td>\n",
       "    </tr>\n",
       "    <tr>\n",
       "      <th>2</th>\n",
       "      <td>06/01/1971</td>\n",
       "      <td>2.3967</td>\n",
       "      <td>2.3967</td>\n",
       "      <td>2.3967</td>\n",
       "      <td>2.3967</td>\n",
       "    </tr>\n",
       "    <tr>\n",
       "      <th>3</th>\n",
       "      <td>07/01/1971</td>\n",
       "      <td>2.3963</td>\n",
       "      <td>2.3963</td>\n",
       "      <td>2.3963</td>\n",
       "      <td>2.3963</td>\n",
       "    </tr>\n",
       "    <tr>\n",
       "      <th>4</th>\n",
       "      <td>08/01/1971</td>\n",
       "      <td>2.3972</td>\n",
       "      <td>2.3972</td>\n",
       "      <td>2.3972</td>\n",
       "      <td>2.3972</td>\n",
       "    </tr>\n",
       "    <tr>\n",
       "      <th>...</th>\n",
       "      <td>...</td>\n",
       "      <td>...</td>\n",
       "      <td>...</td>\n",
       "      <td>...</td>\n",
       "      <td>...</td>\n",
       "    </tr>\n",
       "    <tr>\n",
       "      <th>12805</th>\n",
       "      <td>03/02/2020</td>\n",
       "      <td>1.3215</td>\n",
       "      <td>1.2983</td>\n",
       "      <td>1.3215</td>\n",
       "      <td>1.2995</td>\n",
       "    </tr>\n",
       "    <tr>\n",
       "      <th>12806</th>\n",
       "      <td>04/02/2020</td>\n",
       "      <td>1.3047</td>\n",
       "      <td>1.2941</td>\n",
       "      <td>1.2995</td>\n",
       "      <td>1.3031</td>\n",
       "    </tr>\n",
       "    <tr>\n",
       "      <th>12807</th>\n",
       "      <td>05/02/2020</td>\n",
       "      <td>1.3070</td>\n",
       "      <td>1.2956</td>\n",
       "      <td>1.3031</td>\n",
       "      <td>1.3002</td>\n",
       "    </tr>\n",
       "    <tr>\n",
       "      <th>12808</th>\n",
       "      <td>06/02/2020</td>\n",
       "      <td>1.3003</td>\n",
       "      <td>1.2921</td>\n",
       "      <td>1.3002</td>\n",
       "      <td>1.2931</td>\n",
       "    </tr>\n",
       "    <tr>\n",
       "      <th>12809</th>\n",
       "      <td>07/02/2020</td>\n",
       "      <td>1.2959</td>\n",
       "      <td>1.2882</td>\n",
       "      <td>1.2931</td>\n",
       "      <td>1.2892</td>\n",
       "    </tr>\n",
       "  </tbody>\n",
       "</table>\n",
       "<p>12810 rows × 5 columns</p>\n",
       "</div>"
      ],
      "text/plain": [
       "             date    high     low    open   close\n",
       "0      04/01/1971  2.3938  2.3938  2.3938  2.3938\n",
       "1      05/01/1971  2.3949  2.3949  2.3949  2.3949\n",
       "2      06/01/1971  2.3967  2.3967  2.3967  2.3967\n",
       "3      07/01/1971  2.3963  2.3963  2.3963  2.3963\n",
       "4      08/01/1971  2.3972  2.3972  2.3972  2.3972\n",
       "...           ...     ...     ...     ...     ...\n",
       "12805  03/02/2020  1.3215  1.2983  1.3215  1.2995\n",
       "12806  04/02/2020  1.3047  1.2941  1.2995  1.3031\n",
       "12807  05/02/2020  1.3070  1.2956  1.3031  1.3002\n",
       "12808  06/02/2020  1.3003  1.2921  1.3002  1.2931\n",
       "12809  07/02/2020  1.2959  1.2882  1.2931  1.2892\n",
       "\n",
       "[12810 rows x 5 columns]"
      ]
     },
     "execution_count": 2,
     "metadata": {},
     "output_type": "execute_result"
    }
   ],
   "source": [
    "# data frame\n",
    "csv_path = os.path.abspath('../server/src/csv/gb.csv')\n",
    "df = pd.read_csv(csv_path, header=1)\n",
    "df = df.rename(columns={\"Unnamed: 0\":\"date\", \"last_price\":\"close\"})\n",
    "df"
   ]
  },
  {
   "cell_type": "code",
   "execution_count": 3,
   "metadata": {},
   "outputs": [
    {
     "data": {
      "text/html": [
       "<div>\n",
       "<style scoped>\n",
       "    .dataframe tbody tr th:only-of-type {\n",
       "        vertical-align: middle;\n",
       "    }\n",
       "\n",
       "    .dataframe tbody tr th {\n",
       "        vertical-align: top;\n",
       "    }\n",
       "\n",
       "    .dataframe thead th {\n",
       "        text-align: right;\n",
       "    }\n",
       "</style>\n",
       "<table border=\"1\" class=\"dataframe\">\n",
       "  <thead>\n",
       "    <tr style=\"text-align: right;\">\n",
       "      <th></th>\n",
       "      <th>high</th>\n",
       "      <th>low</th>\n",
       "      <th>open</th>\n",
       "      <th>close</th>\n",
       "    </tr>\n",
       "    <tr>\n",
       "      <th>date</th>\n",
       "      <th></th>\n",
       "      <th></th>\n",
       "      <th></th>\n",
       "      <th></th>\n",
       "    </tr>\n",
       "  </thead>\n",
       "  <tbody>\n",
       "    <tr>\n",
       "      <th>04/01/1971</th>\n",
       "      <td>2.3938</td>\n",
       "      <td>2.3938</td>\n",
       "      <td>2.3938</td>\n",
       "      <td>2.3938</td>\n",
       "    </tr>\n",
       "    <tr>\n",
       "      <th>05/01/1971</th>\n",
       "      <td>2.3949</td>\n",
       "      <td>2.3949</td>\n",
       "      <td>2.3949</td>\n",
       "      <td>2.3949</td>\n",
       "    </tr>\n",
       "    <tr>\n",
       "      <th>06/01/1971</th>\n",
       "      <td>2.3967</td>\n",
       "      <td>2.3967</td>\n",
       "      <td>2.3967</td>\n",
       "      <td>2.3967</td>\n",
       "    </tr>\n",
       "    <tr>\n",
       "      <th>07/01/1971</th>\n",
       "      <td>2.3963</td>\n",
       "      <td>2.3963</td>\n",
       "      <td>2.3963</td>\n",
       "      <td>2.3963</td>\n",
       "    </tr>\n",
       "    <tr>\n",
       "      <th>08/01/1971</th>\n",
       "      <td>2.3972</td>\n",
       "      <td>2.3972</td>\n",
       "      <td>2.3972</td>\n",
       "      <td>2.3972</td>\n",
       "    </tr>\n",
       "  </tbody>\n",
       "</table>\n",
       "</div>"
      ],
      "text/plain": [
       "              high     low    open   close\n",
       "date                                      \n",
       "04/01/1971  2.3938  2.3938  2.3938  2.3938\n",
       "05/01/1971  2.3949  2.3949  2.3949  2.3949\n",
       "06/01/1971  2.3967  2.3967  2.3967  2.3967\n",
       "07/01/1971  2.3963  2.3963  2.3963  2.3963\n",
       "08/01/1971  2.3972  2.3972  2.3972  2.3972"
      ]
     },
     "execution_count": 3,
     "metadata": {},
     "output_type": "execute_result"
    }
   ],
   "source": [
    "features_considered = ['high', 'low', 'open', 'close']\n",
    "features = df[features_considered]\n",
    "features.index = df['date']\n",
    "features.head()"
   ]
  },
  {
   "cell_type": "code",
   "execution_count": 4,
   "metadata": {},
   "outputs": [
    {
     "data": {
      "text/plain": [
       "array([<matplotlib.axes._subplots.AxesSubplot object at 0x7f0a2dd72490>,\n",
       "       <matplotlib.axes._subplots.AxesSubplot object at 0x7f0a21f56850>,\n",
       "       <matplotlib.axes._subplots.AxesSubplot object at 0x7f0a21f8ced0>,\n",
       "       <matplotlib.axes._subplots.AxesSubplot object at 0x7f0a21f4e550>],\n",
       "      dtype=object)"
      ]
     },
     "execution_count": 4,
     "metadata": {},
     "output_type": "execute_result"
    },
    {
     "data": {
      "image/png": "[encoded data removed]",
      "text/plain": [
       "<Figure size 576x432 with 4 Axes>"
      ]
     },
     "metadata": {
      "needs_background": "light"
     },
     "output_type": "display_data"
    }
   ],
   "source": [
    "features.plot(subplots=True)"
   ]
  },
  {
   "cell_type": "code",
   "execution_count": 5,
   "metadata": {},
   "outputs": [
    {
     "data": {
      "text/plain": [
       "array([[ 1.97531264,  1.98428734,  1.97987199,  1.97973999],\n",
       "       [ 1.97883383,  1.98777758,  1.9833784 ,  1.98324631],\n",
       "       [ 1.98459578,  1.9934889 ,  1.98911616,  1.98898393],\n",
       "       ...,\n",
       "       [-1.50362398, -1.50024885, -1.49689323, -1.50618052],\n",
       "       [-1.52507123, -1.51135418, -1.50613741, -1.52881222],\n",
       "       [-1.53915599, -1.5237287 , -1.52876969, -1.54124373]])"
      ]
     },
     "execution_count": 5,
     "metadata": {},
     "output_type": "execute_result"
    }
   ],
   "source": [
    "dataset = features.values\n",
    "data_mean = dataset[:TRAIN_SPLIT].mean(axis=0)\n",
    "data_std = dataset[:TRAIN_SPLIT].std(axis=0)\n",
    "dataset = (dataset-data_mean)/data_std\n",
    "dataset"
   ]
  },
  {
   "cell_type": "code",
   "execution_count": 6,
   "metadata": {},
   "outputs": [],
   "source": [
    "# single step model\n",
    "def multivariate_data(dataset, target, start_index, end_index, history_size,\n",
    "                      target_size, step, single_step=False):\n",
    "  data = []\n",
    "  labels = []\n",
    "\n",
    "  start_index = start_index + history_size\n",
    "  if end_index is None:\n",
    "    end_index = len(dataset) - target_size\n",
    "\n",
    "  for i in range(start_index, end_index):\n",
    "    indices = range(i-history_size, i, step)\n",
    "    data.append(dataset[indices])\n",
    "\n",
    "    if single_step:\n",
    "      labels.append(target[i+target_size])\n",
    "    else:\n",
    "      labels.append(target[i:i+target_size])\n",
    "\n",
    "  return np.array(data), np.array(labels)"
   ]
  },
  {
   "cell_type": "code",
   "execution_count": 7,
   "metadata": {},
   "outputs": [],
   "source": [
    "past_history = 720\n",
    "future_target = 72\n",
    "STEP = 6\n",
    "\n",
    "x_train_single, y_train_single = multivariate_data(dataset, dataset[:, 1], 0,\n",
    "                                                   TRAIN_SPLIT, past_history,\n",
    "                                                   future_target, STEP,\n",
    "                                                   single_step=True)\n",
    "x_val_single, y_val_single = multivariate_data(dataset, dataset[:, 1],\n",
    "                                               TRAIN_SPLIT, None, past_history,\n",
    "                                               future_target, STEP,\n",
    "                                               single_step=True)"
   ]
  },
  {
   "cell_type": "code",
   "execution_count": 8,
   "metadata": {},
   "outputs": [
    {
     "name": "stdout",
     "output_type": "stream",
     "text": [
      "Single window of past history : (120, 4)\n"
     ]
    }
   ],
   "source": [
    "print ('Single window of past history : {}'.format(x_train_single[0].shape))"
   ]
  },
  {
   "cell_type": "code",
   "execution_count": 9,
   "metadata": {},
   "outputs": [],
   "source": [
    "train_data_single = tf.data.Dataset.from_tensor_slices((x_train_single, y_train_single))\n",
    "train_data_single = train_data_single.cache().shuffle(BUFFER_SIZE).batch(BATCH_SIZE).repeat()\n",
    "\n",
    "val_data_single = tf.data.Dataset.from_tensor_slices((x_val_single, y_val_single))\n",
    "val_data_single = val_data_single.batch(BATCH_SIZE).repeat()"
   ]
  },
  {
   "cell_type": "code",
   "execution_count": 10,
   "metadata": {},
   "outputs": [],
   "source": [
    "single_step_model = tf.keras.models.Sequential()\n",
    "single_step_model.add(tf.keras.layers.LSTM(32,\n",
    "                                           input_shape=x_train_single.shape[-2:]))\n",
    "single_step_model.add(tf.keras.layers.Dense(1))\n",
    "\n",
    "single_step_model.compile(optimizer=tf.keras.optimizers.RMSprop(), loss='mae')"
   ]
  },
  {
   "cell_type": "code",
   "execution_count": 11,
   "metadata": {},
   "outputs": [
    {
     "name": "stdout",
     "output_type": "stream",
     "text": [
      "(256, 1)\n"
     ]
    }
   ],
   "source": [
    "for x, y in val_data_single.take(1):\n",
    "  print(single_step_model.predict(x).shape)"
   ]
  },
  {
   "cell_type": "code",
   "execution_count": null,
   "metadata": {},
   "outputs": [
    {
     "name": "stdout",
     "output_type": "stream",
     "text": [
      "Train for 200 steps, validate for 50 steps\n",
      "Epoch 1/50\n",
      "200/200 [==============================] - 4s 19ms/step - loss: 0.0959 - val_loss: 0.2793\n",
      "Epoch 2/50\n",
      "200/200 [==============================] - 4s 18ms/step - loss: 0.0976 - val_loss: 0.2754\n",
      "Epoch 3/50\n",
      "200/200 [==============================] - 4s 18ms/step - loss: 0.0888 - val_loss: 0.2932\n",
      "Epoch 4/50\n",
      "200/200 [==============================] - 4s 18ms/step - loss: 0.0863 - val_loss: 0.3054\n",
      "Epoch 5/50\n",
      "200/200 [==============================] - 4s 18ms/step - loss: 0.0944 - val_loss: 0.3057\n",
      "Epoch 6/50\n",
      "200/200 [==============================] - 4s 18ms/step - loss: 0.0818 - val_loss: 0.2856\n",
      "Epoch 7/50\n",
      "200/200 [==============================] - 4s 18ms/step - loss: 0.0793 - val_loss: 0.3041\n",
      "Epoch 8/50\n",
      "200/200 [==============================] - 4s 18ms/step - loss: 0.0764 - val_loss: 0.2797\n",
      "Epoch 9/50\n",
      "200/200 [==============================] - 4s 18ms/step - loss: 0.0755 - val_loss: 0.2858\n",
      "Epoch 10/50\n",
      "200/200 [==============================] - 4s 18ms/step - loss: 0.0739 - val_loss: 0.2844\n",
      "Epoch 11/50\n",
      "200/200 [==============================] - 4s 18ms/step - loss: 0.0730 - val_loss: 0.3060\n",
      "Epoch 12/50\n",
      "200/200 [==============================] - 4s 18ms/step - loss: 0.0821 - val_loss: 0.2940\n",
      "Epoch 13/50\n",
      "200/200 [==============================] - 4s 18ms/step - loss: 0.0703 - val_loss: 0.2726\n",
      "Epoch 14/50\n",
      "200/200 [==============================] - 4s 18ms/step - loss: 0.0704 - val_loss: 0.2778\n",
      "Epoch 15/50\n",
      "200/200 [==============================] - 4s 18ms/step - loss: 0.0680 - val_loss: 0.3074\n",
      "Epoch 16/50\n",
      "200/200 [==============================] - 4s 18ms/step - loss: 0.0668 - val_loss: 0.2949\n",
      "Epoch 17/50\n",
      "200/200 [==============================] - 4s 18ms/step - loss: 0.0730 - val_loss: 0.3134\n",
      "Epoch 18/50\n",
      "200/200 [==============================] - 4s 18ms/step - loss: 0.0666 - val_loss: 0.2966\n",
      "Epoch 19/50\n",
      "200/200 [==============================] - 4s 18ms/step - loss: 0.0681 - val_loss: 0.3231\n",
      "Epoch 20/50\n",
      "200/200 [==============================] - 4s 18ms/step - loss: 0.0667 - val_loss: 0.3033\n",
      "Epoch 21/50\n",
      "200/200 [==============================] - 4s 18ms/step - loss: 0.0664 - val_loss: 0.3203\n",
      "Epoch 22/50\n",
      "200/200 [==============================] - 4s 18ms/step - loss: 0.0647 - val_loss: 0.3112\n",
      "Epoch 23/50\n",
      "200/200 [==============================] - 4s 18ms/step - loss: 0.0633 - val_loss: 0.3292\n",
      "Epoch 24/50\n",
      "200/200 [==============================] - 4s 18ms/step - loss: 0.0620 - val_loss: 0.3351\n",
      "Epoch 25/50\n",
      "200/200 [==============================] - 4s 18ms/step - loss: 0.0609 - val_loss: 0.3147\n",
      "Epoch 26/50\n",
      "103/200 [==============>...............] - ETA: 1s - loss: 0.0611"
     ]
    }
   ],
   "source": [
    "single_step_history = single_step_model.fit(train_data_single, epochs=EPOCHS,\n",
    "                                            steps_per_epoch=EVALUATION_INTERVAL,\n",
    "                                            validation_data=val_data_single,\n",
    "                                            validation_steps=50)"
   ]
  },
  {
   "cell_type": "code",
   "execution_count": 14,
   "metadata": {},
   "outputs": [],
   "source": [
    "def plot_train_history(history, title):\n",
    "  loss = history.history['loss']\n",
    "  val_loss = history.history['val_loss']\n",
    "\n",
    "  epochs = range(len(loss))\n",
    "\n",
    "  plt.figure()\n",
    "\n",
    "  plt.plot(epochs, loss, 'b', label='Training loss')\n",
    "  plt.plot(epochs, val_loss, 'r', label='Validation loss')\n",
    "  plt.title(title)\n",
    "  plt.legend()\n",
    "\n",
    "  plt.show()"
   ]
  },
  {
   "cell_type": "code",
   "execution_count": 15,
   "metadata": {},
   "outputs": [
    {
     "data": {
      "image/png": "[encoded data removed]",
      "text/plain": [
       "<Figure size 576x432 with 1 Axes>"
      ]
     },
     "metadata": {
      "needs_background": "light"
     },
     "output_type": "display_data"
    }
   ],
   "source": [
    "plot_train_history(single_step_history,\n",
    "                   'Single Step Training and validation loss')"
   ]
  }
 ],
 "metadata": {
  "kernelspec": {
   "display_name": "Python 3",
   "language": "python",
   "name": "python3"
  },
  "language_info": {
   "codemirror_mode": {
    "name": "ipython",
    "version": 3
   },
   "file_extension": ".py",
   "mimetype": "text/x-python",
   "name": "python",
   "nbconvert_exporter": "python",
   "pygments_lexer": "ipython3",
   "version": "3.7.6"
  }
 },
 "nbformat": 4,
 "nbformat_minor": 4
}
